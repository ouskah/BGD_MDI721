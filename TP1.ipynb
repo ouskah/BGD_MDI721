{
 "cells": [
  {
   "cell_type": "code",
   "execution_count": null,
   "metadata": {},
   "outputs": [],
   "source": [
    "import math\n",
    "import string\n",
    "\n",
    "import random\n",
    "import time\n",
    "\n",
    "import numpy as np"
   ]
  },
  {
   "cell_type": "markdown",
   "metadata": {},
   "source": [
    "### Exercice 1"
   ]
  },
  {
   "cell_type": "code",
   "execution_count": 22,
   "metadata": {},
   "outputs": [
    {
     "name": "stdout",
     "output_type": "stream",
     "text": [
      "1\n",
      "16\n"
     ]
    }
   ],
   "source": [
    "def nextpower(n):\n",
    "    \n",
    "    nextPowerOf2 = 1\n",
    "    \n",
    "    i = 0\n",
    "    while (nextPowerOf2 < n):\n",
    "        nextPowerOf2 = math.pow(2, i)\n",
    "        i = i + 1\n",
    "\n",
    "    return int(nextPowerOf2)\n",
    "\n",
    "print(nextpower(0))\n",
    "print(nextpower(16))"
   ]
  },
  {
   "cell_type": "markdown",
   "metadata": {},
   "source": [
    "### Exercice 2"
   ]
  },
  {
   "cell_type": "code",
   "execution_count": 16,
   "metadata": {},
   "outputs": [
    {
     "name": "stdout",
     "output_type": "stream",
     "text": [
      "cfilorux\n",
      "vxz\n",
      "vxz\n"
     ]
    }
   ],
   "source": [
    "alphabet = string.ascii_letters[0:26]\n",
    "\n",
    "print(alphabet[2:26:3])\n",
    "print(alphabet[21:26:2])\n",
    "print(alphabet[-5::2])"
   ]
  },
  {
   "cell_type": "markdown",
   "metadata": {},
   "source": [
    "### Exercice 3"
   ]
  },
  {
   "cell_type": "code",
   "execution_count": 23,
   "metadata": {},
   "outputs": [
    {
     "name": "stdout",
     "output_type": "stream",
     "text": [
      "3.141592654\n"
     ]
    }
   ],
   "source": [
    "print(\"{:.9f}\".format(math.pi))"
   ]
  },
  {
   "cell_type": "markdown",
   "metadata": {},
   "source": [
    "### Exercice 4"
   ]
  },
  {
   "cell_type": "code",
   "execution_count": 33,
   "metadata": {},
   "outputs": [
    {
     "name": "stdout",
     "output_type": "stream",
     "text": [
      "{'H': 1, 'e': 1, 'l': 1, 'L': 2, 'o': 2, ' ': 1, 'W': 1, 'r': 1, 'd': 1, '!': 2}\n",
      "running time = 0.0003216266632080078\n"
     ]
    }
   ],
   "source": [
    "def wordCount(s):\n",
    "    \n",
    "    dico = {}\n",
    "    for char in s:\n",
    "        if char in dico:\n",
    "            dico[char] += 1\n",
    "        else:\n",
    "            dico[char] = 1\n",
    "    \n",
    "    return dico\n",
    "\n",
    "s = \"HelLo WorLd!!\"\n",
    "\n",
    "t = time.time()\n",
    "\n",
    "print(wordCount(s))\n",
    "print(\"running time = {}\".format(time.time() - t))"
   ]
  },
  {
   "cell_type": "markdown",
   "metadata": {},
   "source": [
    "### Exercice 5"
   ]
  },
  {
   "cell_type": "code",
   "execution_count": 65,
   "metadata": {},
   "outputs": [
    {
     "name": "stdout",
     "output_type": "stream",
     "text": [
      "\"@\"@\n",
      "toto\n"
     ]
    }
   ],
   "source": [
    "def cesar_keygen(seed=None):\n",
    "    \n",
    "    random.seed(seed)\n",
    " \n",
    "    #alphabet = list(string.ascii_letters[0:26])    \n",
    "    #key_list = list(string.ascii_letters[0:26])\n",
    " \n",
    "    alphabet = list(string.printable)    \n",
    "    key_list = list(string.printable)\n",
    "\n",
    "    random.shuffle(key_list)\n",
    "\n",
    "    encoder = {}\n",
    "    decoder = {}\n",
    "\n",
    "    for idx, char in enumerate(alphabet):\n",
    "        key = key_list[idx]\n",
    "        encoder[char] = key\n",
    "        decoder[key] = char\n",
    "\n",
    "    return (encoder, decoder)\n",
    "\n",
    "def cesar_encode(encoder, string):\n",
    "    \n",
    "    list_in = list(string)\n",
    "    list_out = []\n",
    "    \n",
    "    for char in list_in:\n",
    "        list_out.append(encoder[char])\n",
    "    \n",
    "    return \"\".join(list_out)\n",
    "\n",
    "def cesar_decode(decoder, string):\n",
    "    list_in = list(string)\n",
    "    list_out = []\n",
    "    \n",
    "    for char in list_in:\n",
    "        list_out.append(decoder[char])\n",
    "    \n",
    "    return \"\".join(list_out)\n",
    "\n",
    "encoder, decoder = cesar_keygen(seed=12)\n",
    "\n",
    "s1 = \"toto\"\n",
    "\n",
    "s2 = cesar_encode(encoder, s1)\n",
    "\n",
    "print(s2)\n",
    "\n",
    "s3 = cesar_decode(decoder, s2)\n",
    "\n",
    "print(s3)\n",
    "#print(encoder)\n",
    "#print(decoder)\n",
    "    "
   ]
  },
  {
   "cell_type": "markdown",
   "metadata": {},
   "source": [
    "### Exercice 6"
   ]
  },
  {
   "cell_type": "code",
   "execution_count": 93,
   "metadata": {},
   "outputs": [
    {
     "name": "stdout",
     "output_type": "stream",
     "text": [
      "n = 1000000 => v = 3.141591868192149 //// t = 0.476625\n",
      "n = 1000000 => v = 3.141591868192149 //// t = 0.029289\n"
     ]
    }
   ],
   "source": [
    "def product_1(n):\n",
    "    \"\"\"with loop\"\"\"\n",
    "    result = 1.0\n",
    "    for k in range(1, n + 1):\n",
    "        k2 = float(k * k)\n",
    "        tmp = 4. * k2 / (4. * k2 - 1.)\n",
    "        result *= tmp\n",
    "        \n",
    "    return 2.0 * result\n",
    "\n",
    "def product_2(n):\n",
    "    \"\"\"with numpy\"\"\"\n",
    "    k = np.arange(1, n + 1, dtype=np.float)\n",
    "    k2 = np.square(k)\n",
    "    a = 4. * k2 / (4. * k2 - 1.)\n",
    "    \n",
    "    return 2.0 * np.prod(a)\n",
    "    \n",
    "n = 1000000\n",
    "\n",
    "t1 = time.time()\n",
    "\n",
    "v1 = product_1(n)\n",
    "t2 = time.time()\n",
    "\n",
    "print(\"n = {} => v = {} //// t = {:.6f}\".format(n, v1, t2 - t1))\n",
    "\n",
    "v2 = product_2(n)\n",
    "t3 = time.time()\n",
    "\n",
    "print(\"n = {} => v = {} //// t = {:.6f}\".format(n, v2, t3 - t2))\n",
    "            "
   ]
  },
  {
   "cell_type": "markdown",
   "metadata": {},
   "source": [
    "### Exercice 7"
   ]
  },
  {
   "cell_type": "code",
   "execution_count": 112,
   "metadata": {},
   "outputs": [
    {
     "name": "stdout",
     "output_type": "stream",
     "text": [
      "Enter => [-2, 3, 5, 1, 3]\n",
      "Enter => [-2, 3, 1]\n",
      "Enter => [-2]\n",
      "Enter => [3]\n",
      "Enter => [5]\n",
      "[-2, 1, 3, 3, 5]\n"
     ]
    }
   ],
   "source": [
    "def quicksort(ll):\n",
    "    \"\"\" a sorting algorithm with a pivot value\"\"\"\n",
    "    \n",
    "    print(\"Enter => \" + str(ll))\n",
    "    if len(ll) <= 1:\n",
    "        return ll\n",
    "    else:\n",
    "        # pivot = last element of the list ll.\n",
    "        pivot = ll.pop()\n",
    "        less = []\n",
    "        greater = []\n",
    "\n",
    "        for x in ll:\n",
    "            if x <= pivot:\n",
    "                less.append(x)\n",
    "            else:\n",
    "                greater.append(x)\n",
    "\n",
    "        res = []\n",
    "        if (len(less) > 0):\n",
    "            res.extend(quicksort(less))\n",
    "            \n",
    "        res.append(pivot)\n",
    "        \n",
    "        if (len(greater) > 0):\n",
    "            res.extend(quicksort(greater))\n",
    "\n",
    "        return res\n",
    "\n",
    "\n",
    "ll = [-2, 3, 5, 1, 3]\n",
    "                                      \n",
    "print(quicksort(ll))\n"
   ]
  },
  {
   "cell_type": "markdown",
   "metadata": {},
   "source": [
    "### Exercice 8"
   ]
  },
  {
   "cell_type": "code",
   "execution_count": 119,
   "metadata": {},
   "outputs": [
    {
     "name": "stdout",
     "output_type": "stream",
     "text": [
      "[[ 0.93405968  0.0944645   0.94536872  0.42963199  0.39545765 -0.56782101]\n",
      " [ 0.95254891 -0.98753949 -0.49403528 -0.13041694  0.55876584 -0.60462985]\n",
      " [ 0.72598647  0.96680135 -0.67231552  0.19466789 -0.9820278  -0.22685743]\n",
      " [-0.91167988  0.91330594 -0.12770671  0.89795461  0.57261197  0.7325786 ]\n",
      " [-0.65366916 -0.85010283  0.20148544 -0.66405563  0.46676034 -0.18311228]]\n",
      "[[ 0.93405968  0.0944645   0.94536872  0.42963199  0.39545765 -0.56782101]\n",
      " [ 0.95254891 -0.98753949 -0.49403528 -0.13041694  0.55876584 -0.60462985]]\n"
     ]
    }
   ],
   "source": [
    "np.random.seed(4)\n",
    "\n",
    "mat = np.random.uniform(-1.0, 1.0, (5, 6))\n",
    "\n",
    "\n",
    "print(mat)\n",
    "\n",
    "print(mat[:, :2:2])"
   ]
  },
  {
   "cell_type": "code",
   "execution_count": null,
   "metadata": {},
   "outputs": [],
   "source": []
  }
 ],
 "metadata": {
  "kernelspec": {
   "display_name": "Python 3",
   "language": "python",
   "name": "python3"
  }
 },
 "nbformat": 4,
 "nbformat_minor": 2
}
