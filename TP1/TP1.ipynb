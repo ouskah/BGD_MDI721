{
 "cells": [
  {
   "cell_type": "markdown",
   "metadata": {},
   "source": [
    "# Introduction: Python, Numpy, Pandas, *et al*."
   ]
  },
  {
   "cell_type": "code",
   "execution_count": 1,
   "metadata": {},
   "outputs": [],
   "source": [
    "import math\n",
    "import string\n",
    "\n",
    "import random\n",
    "import time\n",
    "\n",
    "import numpy as np"
   ]
  },
  {
   "cell_type": "markdown",
   "metadata": {},
   "source": [
    "### Exercice 1"
   ]
  },
  {
   "cell_type": "code",
   "execution_count": 2,
   "metadata": {},
   "outputs": [
    {
     "name": "stdout",
     "output_type": "stream",
     "text": [
      "1\n",
      "16\n"
     ]
    }
   ],
   "source": [
    "def nextpower(n):\n",
    "    \n",
    "    nextPowerOf2 = 1\n",
    "    \n",
    "    i = 0\n",
    "    while (nextPowerOf2 < n):\n",
    "        nextPowerOf2 = math.pow(2, i)\n",
    "        i = i + 1\n",
    "\n",
    "    return int(nextPowerOf2)\n",
    "\n",
    "print(nextpower(0))\n",
    "print(nextpower(16))"
   ]
  },
  {
   "cell_type": "markdown",
   "metadata": {},
   "source": [
    "### Exercice 2"
   ]
  },
  {
   "cell_type": "code",
   "execution_count": 3,
   "metadata": {},
   "outputs": [
    {
     "name": "stdout",
     "output_type": "stream",
     "text": [
      "cfilorux\n",
      "vxz\n",
      "vxz\n"
     ]
    }
   ],
   "source": [
    "alphabet = string.ascii_letters[0:26]\n",
    "\n",
    "print(alphabet[2:26:3])\n",
    "print(alphabet[21:26:2])\n",
    "print(alphabet[-5::2])"
   ]
  },
  {
   "cell_type": "markdown",
   "metadata": {},
   "source": [
    "### Exercice 3"
   ]
  },
  {
   "cell_type": "code",
   "execution_count": 4,
   "metadata": {},
   "outputs": [
    {
     "name": "stdout",
     "output_type": "stream",
     "text": [
      "3.141592654\n"
     ]
    }
   ],
   "source": [
    "print(\"{:.9f}\".format(math.pi))"
   ]
  },
  {
   "cell_type": "markdown",
   "metadata": {},
   "source": [
    "### Exercice 4"
   ]
  },
  {
   "cell_type": "code",
   "execution_count": 5,
   "metadata": {},
   "outputs": [
    {
     "name": "stdout",
     "output_type": "stream",
     "text": [
      "{'H': 1, 'e': 1, 'l': 1, 'L': 2, 'o': 2, ' ': 1, 'W': 1, 'r': 1, 'd': 1, '!': 2}\n",
      "running time = 0.0\n"
     ]
    }
   ],
   "source": [
    "def wordCount(s):\n",
    "    \n",
    "    dico = {}\n",
    "    for char in s:\n",
    "        if char in dico:\n",
    "            dico[char] += 1\n",
    "        else:\n",
    "            dico[char] = 1\n",
    "    \n",
    "    return dico\n",
    "\n",
    "s = \"HelLo WorLd!!\"\n",
    "\n",
    "t = time.time()\n",
    "\n",
    "print(wordCount(s))\n",
    "print(\"running time = {}\".format(time.time() - t))"
   ]
  },
  {
   "cell_type": "markdown",
   "metadata": {},
   "source": [
    "### Exercice 5"
   ]
  },
  {
   "cell_type": "code",
   "execution_count": 6,
   "metadata": {},
   "outputs": [
    {
     "name": "stdout",
     "output_type": "stream",
     "text": [
      "\"@\"@\n",
      "toto\n"
     ]
    }
   ],
   "source": [
    "def cesar_keygen(seed=None):\n",
    "    \n",
    "    random.seed(seed)\n",
    " \n",
    "    #alphabet = list(string.ascii_letters[0:26])    \n",
    "    #key_list = list(string.ascii_letters[0:26])\n",
    " \n",
    "    alphabet = list(string.printable)    \n",
    "    key_list = list(string.printable)\n",
    "\n",
    "    random.shuffle(key_list)\n",
    "\n",
    "    encoder = {}\n",
    "    decoder = {}\n",
    "\n",
    "    for idx, char in enumerate(alphabet):\n",
    "        key = key_list[idx]\n",
    "        encoder[char] = key\n",
    "        decoder[key] = char\n",
    "\n",
    "    return (encoder, decoder)\n",
    "\n",
    "def cesar_encode(encoder, string):\n",
    "    \n",
    "    list_in = list(string)\n",
    "    list_out = []\n",
    "    \n",
    "    for char in list_in:\n",
    "        list_out.append(encoder[char])\n",
    "    \n",
    "    return \"\".join(list_out)\n",
    "\n",
    "def cesar_decode(decoder, string):\n",
    "    list_in = list(string)\n",
    "    list_out = []\n",
    "    \n",
    "    for char in list_in:\n",
    "        list_out.append(decoder[char])\n",
    "    \n",
    "    return \"\".join(list_out)\n",
    "\n",
    "encoder, decoder = cesar_keygen(seed=12)\n",
    "\n",
    "s1 = \"toto\"\n",
    "\n",
    "s2 = cesar_encode(encoder, s1)\n",
    "\n",
    "print(s2)\n",
    "\n",
    "s3 = cesar_decode(decoder, s2)\n",
    "\n",
    "print(s3)\n",
    "#print(encoder)\n",
    "#print(decoder)\n",
    "    "
   ]
  },
  {
   "cell_type": "markdown",
   "metadata": {},
   "source": [
    "### Exercice 6"
   ]
  },
  {
   "cell_type": "code",
   "execution_count": 7,
   "metadata": {},
   "outputs": [
    {
     "name": "stdout",
     "output_type": "stream",
     "text": [
      "n = 1000000 => v = 3.141591868192149 //// t = 0.682303\n",
      "n = 1000000 => v = 3.141591868192149 //// t = 0.059943\n"
     ]
    }
   ],
   "source": [
    "def product_1(n):\n",
    "    \"\"\"with loop\"\"\"\n",
    "    result = 1.0\n",
    "    for k in range(1, n + 1):\n",
    "        k2 = float(k * k)\n",
    "        tmp = 4. * k2 / (4. * k2 - 1.)\n",
    "        result *= tmp\n",
    "        \n",
    "    return 2.0 * result\n",
    "\n",
    "def product_2(n):\n",
    "    \"\"\"with numpy\"\"\"\n",
    "    k = np.arange(1, n + 1, dtype=np.float)\n",
    "    k2 = np.square(k)\n",
    "    a = 4. * k2 / (4. * k2 - 1.)\n",
    "    \n",
    "    return 2.0 * np.prod(a)\n",
    "    \n",
    "n = 1000000\n",
    "\n",
    "t1 = time.time()\n",
    "\n",
    "v1 = product_1(n)\n",
    "t2 = time.time()\n",
    "\n",
    "print(\"n = {} => v = {} //// t = {:.6f}\".format(n, v1, t2 - t1))\n",
    "\n",
    "v2 = product_2(n)\n",
    "t3 = time.time()\n",
    "\n",
    "print(\"n = {} => v = {} //// t = {:.6f}\".format(n, v2, t3 - t2))\n",
    "            "
   ]
  },
  {
   "cell_type": "markdown",
   "metadata": {},
   "source": [
    "### Exercice 7"
   ]
  },
  {
   "cell_type": "code",
   "execution_count": 8,
   "metadata": {},
   "outputs": [
    {
     "name": "stdout",
     "output_type": "stream",
     "text": [
      "[-2, 3, 5, 1, 3] => [-2, 1, 3, 3, 5]\n"
     ]
    }
   ],
   "source": [
    "import copy\n",
    "\n",
    "def quicksort(listInt):\n",
    "    \"\"\" a sorting algorithm with a pivot value\"\"\"\n",
    "    \n",
    "    ll = copy.deepcopy(listInt)\n",
    "    if len(ll) <= 1:\n",
    "        return ll\n",
    "    else:\n",
    "        # pivot = last element of the list ll.\n",
    "        pivot = ll.pop()\n",
    "        less = []\n",
    "        greater = []\n",
    "\n",
    "        for x in ll:\n",
    "            if x <= pivot:\n",
    "                less.append(x)\n",
    "            else:\n",
    "                greater.append(x)\n",
    "\n",
    "        res = []\n",
    "        if (len(less) > 0):\n",
    "            res.extend(quicksort(less))\n",
    "            \n",
    "        res.append(pivot)\n",
    "        \n",
    "        if (len(greater) > 0):\n",
    "            res.extend(quicksort(greater))\n",
    "\n",
    "        return res\n",
    "\n",
    "l1 = [-2, 3, 5, 1, 3]\n",
    "l2 = quicksort(l1)\n",
    "\n",
    "print(\"{} => {}\".format(l1, l2))"
   ]
  },
  {
   "cell_type": "markdown",
   "metadata": {},
   "source": [
    "### Exercice 8\n",
    "\n",
    "$\\mathbf{M} \\in \\mathbb{R}^{5 \\times 6}$"
   ]
  },
  {
   "cell_type": "code",
   "execution_count": 24,
   "metadata": {},
   "outputs": [
    {
     "name": "stdout",
     "output_type": "stream",
     "text": [
      "A = [[ 0.93405968  0.0944645   0.94536872  0.42963199  0.39545765 -0.56782101]\n",
      " [ 0.95254891 -0.98753949 -0.49403528 -0.13041694  0.55876584 -0.60462985]\n",
      " [ 0.72598647  0.96680135 -0.67231552  0.19466789 -0.9820278  -0.22685743]\n",
      " [-0.91167988  0.91330594 -0.12770671  0.89795461  0.57261197  0.7325786 ]\n",
      " [-0.65366916 -0.85010283  0.20148544 -0.66405563  0.46676034 -0.18311228]]\n",
      "A = [[ 0.74513068  0.0944645   0.08610475  0.42963199  1.53109967 -0.56782101]\n",
      " [ 2.92762789 -0.98753949 -0.2332014  -0.13041694  1.76802555 -0.60462985]\n",
      " [-1.20761624  0.96680135 -1.06165129  0.19466789 -0.52831294 -0.22685743]\n",
      " [-2.73829175  0.91330594 -1.92361593  0.89795461 -0.89254522  0.7325786 ]\n",
      " [ 1.04653649 -0.85010283  1.52959671 -0.66405563  0.83298489 -0.18311228]]\n",
      "A = [[0.74513068 0.0944645  0.08610475 0.42963199 1.53109967 0.        ]\n",
      " [2.92762789 0.         0.         0.         1.76802555 0.        ]\n",
      " [0.         0.96680135 0.         0.19466789 0.         0.        ]\n",
      " [0.         0.91330594 0.         0.89795461 0.         0.7325786 ]\n",
      " [1.04653649 0.         1.52959671 0.         0.83298489 0.        ]]\n"
     ]
    }
   ],
   "source": [
    "np.random.seed(4)\n",
    "\n",
    "mat = np.random.uniform(-1.0, 1.0, (5, 6))\n",
    "\n",
    "print(\"A = {}\".format(mat))\n",
    "\n",
    "mat[:, ::2] -= 2.0 * mat[:, 1::2]\n",
    "\n",
    "print(\"A = {}\".format(mat))\n",
    "\n",
    "# Remplace les valeurs négatives par 0.\n",
    "mat[mat < 0] = 0.0\n",
    "\n",
    "print(\"A = {}\".format(mat))\n"
   ]
  },
  {
   "cell_type": "markdown",
   "metadata": {},
   "source": [
    "### Exercice 9\n",
    "\n",
    "$\\mathbf{M} \\in \\mathbb{R}^{5 \\times 20}$"
   ]
  },
  {
   "cell_type": "code",
   "execution_count": 27,
   "metadata": {},
   "outputs": [
    {
     "name": "stdout",
     "output_type": "stream",
     "text": [
      "[[ 3.56531684 -0.42751613 -0.09093111  0.03382519 -0.63845171 -1.81919596]\n",
      " [-0.42751613  3.47566519 -0.36073106  1.74220487 -1.33769681  1.1488635 ]\n",
      " [-0.09093111 -0.36073106  1.64670641  0.0912406   0.77895481 -0.21602163]\n",
      " [ 0.03382519  1.74220487  0.0912406   1.48678018  0.11008418  0.57015712]\n",
      " [-0.63845171 -1.33769681  0.77895481  0.11008418  1.97873431 -0.00560164]\n",
      " [-1.81919596  1.1488635  -0.21602163  0.57015712 -0.00560164  1.30966376]]\n",
      "[[ True  True  True  True  True  True]\n",
      " [ True  True  True  True  True  True]\n",
      " [ True  True  True  True  True  True]\n",
      " [ True  True  True  True  True  True]\n",
      " [ True  True  True  True  True  True]\n",
      " [ True  True  True  True  True  True]]\n"
     ]
    }
   ],
   "source": [
    "np.random.seed(4)\n",
    "\n",
    "M = np.random.uniform(-1.0, 1.0, (5, 6))\n",
    "\n",
    "G = np.dot(M.T, M)\n",
    "\n",
    "print(G)\n",
    "\n",
    "a = (G == G.T)\n",
    "\n",
    "print(a)"
   ]
  },
  {
   "cell_type": "markdown",
   "metadata": {},
   "source": [
    "# Introduction à Pandas, Matplotlib, etc.\n",
    "\n",
    "### Exercice 10"
   ]
  },
  {
   "cell_type": "code",
   "execution_count": 1,
   "metadata": {},
   "outputs": [],
   "source": [
    "import pandas as pd"
   ]
  },
  {
   "cell_type": "code",
   "execution_count": 7,
   "metadata": {},
   "outputs": [
    {
     "data": {
      "text/html": [
       "<div>\n",
       "<style scoped>\n",
       "    .dataframe tbody tr th:only-of-type {\n",
       "        vertical-align: middle;\n",
       "    }\n",
       "\n",
       "    .dataframe tbody tr th {\n",
       "        vertical-align: top;\n",
       "    }\n",
       "\n",
       "    .dataframe thead th {\n",
       "        text-align: right;\n",
       "    }\n",
       "</style>\n",
       "<table border=\"1\" class=\"dataframe\">\n",
       "  <thead>\n",
       "    <tr style=\"text-align: right;\">\n",
       "      <th></th>\n",
       "      <th>Date</th>\n",
       "      <th>Time</th>\n",
       "      <th>Global_active_power</th>\n",
       "      <th>Global_reactive_power</th>\n",
       "      <th>Voltage</th>\n",
       "      <th>Global_intensity</th>\n",
       "      <th>Sub_metering_1</th>\n",
       "      <th>Sub_metering_2</th>\n",
       "      <th>Sub_metering_3</th>\n",
       "    </tr>\n",
       "  </thead>\n",
       "  <tbody>\n",
       "    <tr>\n",
       "      <td>0</td>\n",
       "      <td>16/12/2006</td>\n",
       "      <td>17:24:00</td>\n",
       "      <td>4.216</td>\n",
       "      <td>0.418</td>\n",
       "      <td>234.840</td>\n",
       "      <td>18.400</td>\n",
       "      <td>0.000</td>\n",
       "      <td>1.000</td>\n",
       "      <td>17.0</td>\n",
       "    </tr>\n",
       "    <tr>\n",
       "      <td>1</td>\n",
       "      <td>16/12/2006</td>\n",
       "      <td>17:25:00</td>\n",
       "      <td>5.360</td>\n",
       "      <td>0.436</td>\n",
       "      <td>233.630</td>\n",
       "      <td>23.000</td>\n",
       "      <td>0.000</td>\n",
       "      <td>1.000</td>\n",
       "      <td>16.0</td>\n",
       "    </tr>\n",
       "    <tr>\n",
       "      <td>2</td>\n",
       "      <td>16/12/2006</td>\n",
       "      <td>17:26:00</td>\n",
       "      <td>5.374</td>\n",
       "      <td>0.498</td>\n",
       "      <td>233.290</td>\n",
       "      <td>23.000</td>\n",
       "      <td>0.000</td>\n",
       "      <td>2.000</td>\n",
       "      <td>17.0</td>\n",
       "    </tr>\n",
       "    <tr>\n",
       "      <td>3</td>\n",
       "      <td>16/12/2006</td>\n",
       "      <td>17:27:00</td>\n",
       "      <td>5.388</td>\n",
       "      <td>0.502</td>\n",
       "      <td>233.740</td>\n",
       "      <td>23.000</td>\n",
       "      <td>0.000</td>\n",
       "      <td>1.000</td>\n",
       "      <td>17.0</td>\n",
       "    </tr>\n",
       "    <tr>\n",
       "      <td>4</td>\n",
       "      <td>16/12/2006</td>\n",
       "      <td>17:28:00</td>\n",
       "      <td>3.666</td>\n",
       "      <td>0.528</td>\n",
       "      <td>235.680</td>\n",
       "      <td>15.800</td>\n",
       "      <td>0.000</td>\n",
       "      <td>1.000</td>\n",
       "      <td>17.0</td>\n",
       "    </tr>\n",
       "    <tr>\n",
       "      <td>5</td>\n",
       "      <td>16/12/2006</td>\n",
       "      <td>17:29:00</td>\n",
       "      <td>3.520</td>\n",
       "      <td>0.522</td>\n",
       "      <td>235.020</td>\n",
       "      <td>15.000</td>\n",
       "      <td>0.000</td>\n",
       "      <td>2.000</td>\n",
       "      <td>17.0</td>\n",
       "    </tr>\n",
       "    <tr>\n",
       "      <td>6</td>\n",
       "      <td>16/12/2006</td>\n",
       "      <td>17:30:00</td>\n",
       "      <td>3.702</td>\n",
       "      <td>0.520</td>\n",
       "      <td>235.090</td>\n",
       "      <td>15.800</td>\n",
       "      <td>0.000</td>\n",
       "      <td>1.000</td>\n",
       "      <td>17.0</td>\n",
       "    </tr>\n",
       "    <tr>\n",
       "      <td>7</td>\n",
       "      <td>16/12/2006</td>\n",
       "      <td>17:31:00</td>\n",
       "      <td>3.700</td>\n",
       "      <td>0.520</td>\n",
       "      <td>235.220</td>\n",
       "      <td>15.800</td>\n",
       "      <td>0.000</td>\n",
       "      <td>1.000</td>\n",
       "      <td>17.0</td>\n",
       "    </tr>\n",
       "    <tr>\n",
       "      <td>8</td>\n",
       "      <td>16/12/2006</td>\n",
       "      <td>17:32:00</td>\n",
       "      <td>3.668</td>\n",
       "      <td>0.510</td>\n",
       "      <td>233.990</td>\n",
       "      <td>15.800</td>\n",
       "      <td>0.000</td>\n",
       "      <td>1.000</td>\n",
       "      <td>17.0</td>\n",
       "    </tr>\n",
       "    <tr>\n",
       "      <td>9</td>\n",
       "      <td>16/12/2006</td>\n",
       "      <td>17:33:00</td>\n",
       "      <td>3.662</td>\n",
       "      <td>0.510</td>\n",
       "      <td>233.860</td>\n",
       "      <td>15.800</td>\n",
       "      <td>0.000</td>\n",
       "      <td>2.000</td>\n",
       "      <td>16.0</td>\n",
       "    </tr>\n",
       "  </tbody>\n",
       "</table>\n",
       "</div>"
      ],
      "text/plain": [
       "         Date      Time Global_active_power Global_reactive_power  Voltage  \\\n",
       "0  16/12/2006  17:24:00               4.216                 0.418  234.840   \n",
       "1  16/12/2006  17:25:00               5.360                 0.436  233.630   \n",
       "2  16/12/2006  17:26:00               5.374                 0.498  233.290   \n",
       "3  16/12/2006  17:27:00               5.388                 0.502  233.740   \n",
       "4  16/12/2006  17:28:00               3.666                 0.528  235.680   \n",
       "5  16/12/2006  17:29:00               3.520                 0.522  235.020   \n",
       "6  16/12/2006  17:30:00               3.702                 0.520  235.090   \n",
       "7  16/12/2006  17:31:00               3.700                 0.520  235.220   \n",
       "8  16/12/2006  17:32:00               3.668                 0.510  233.990   \n",
       "9  16/12/2006  17:33:00               3.662                 0.510  233.860   \n",
       "\n",
       "  Global_intensity Sub_metering_1 Sub_metering_2  Sub_metering_3  \n",
       "0           18.400          0.000          1.000            17.0  \n",
       "1           23.000          0.000          1.000            16.0  \n",
       "2           23.000          0.000          2.000            17.0  \n",
       "3           23.000          0.000          1.000            17.0  \n",
       "4           15.800          0.000          1.000            17.0  \n",
       "5           15.000          0.000          2.000            17.0  \n",
       "6           15.800          0.000          1.000            17.0  \n",
       "7           15.800          0.000          1.000            17.0  \n",
       "8           15.800          0.000          1.000            17.0  \n",
       "9           15.800          0.000          2.000            16.0  "
      ]
     },
     "execution_count": 7,
     "metadata": {},
     "output_type": "execute_result"
    }
   ],
   "source": [
    "df = pd.read_csv(\"household_power_consumption_short.csv\", sep=\";\",\n",
    "                   low_memory=False)\n",
    "\n",
    "\n",
    "\n",
    "df.head(10)"
   ]
  },
  {
   "cell_type": "code",
   "execution_count": 9,
   "metadata": {},
   "outputs": [
    {
     "data": {
      "text/html": [
       "<div>\n",
       "<style scoped>\n",
       "    .dataframe tbody tr th:only-of-type {\n",
       "        vertical-align: middle;\n",
       "    }\n",
       "\n",
       "    .dataframe tbody tr th {\n",
       "        vertical-align: top;\n",
       "    }\n",
       "\n",
       "    .dataframe thead th {\n",
       "        text-align: right;\n",
       "    }\n",
       "</style>\n",
       "<table border=\"1\" class=\"dataframe\">\n",
       "  <thead>\n",
       "    <tr style=\"text-align: right;\">\n",
       "      <th></th>\n",
       "      <th>Date</th>\n",
       "      <th>Time</th>\n",
       "      <th>Global_active_power</th>\n",
       "      <th>Global_reactive_power</th>\n",
       "      <th>Voltage</th>\n",
       "      <th>Global_intensity</th>\n",
       "      <th>Sub_metering_1</th>\n",
       "      <th>Sub_metering_2</th>\n",
       "      <th>Sub_metering_3</th>\n",
       "    </tr>\n",
       "  </thead>\n",
       "  <tbody>\n",
       "    <tr>\n",
       "      <td>count</td>\n",
       "      <td>199998</td>\n",
       "      <td>199998</td>\n",
       "      <td>199998</td>\n",
       "      <td>199998</td>\n",
       "      <td>199998</td>\n",
       "      <td>199998</td>\n",
       "      <td>199998</td>\n",
       "      <td>199998</td>\n",
       "      <td>196266.000000</td>\n",
       "    </tr>\n",
       "    <tr>\n",
       "      <td>unique</td>\n",
       "      <td>140</td>\n",
       "      <td>1440</td>\n",
       "      <td>3610</td>\n",
       "      <td>391</td>\n",
       "      <td>2282</td>\n",
       "      <td>205</td>\n",
       "      <td>72</td>\n",
       "      <td>80</td>\n",
       "      <td>NaN</td>\n",
       "    </tr>\n",
       "    <tr>\n",
       "      <td>top</td>\n",
       "      <td>29/4/2007</td>\n",
       "      <td>18:13:00</td>\n",
       "      <td>?</td>\n",
       "      <td>0.000</td>\n",
       "      <td>?</td>\n",
       "      <td>1.400</td>\n",
       "      <td>0.000</td>\n",
       "      <td>0.000</td>\n",
       "      <td>NaN</td>\n",
       "    </tr>\n",
       "    <tr>\n",
       "      <td>freq</td>\n",
       "      <td>1440</td>\n",
       "      <td>139</td>\n",
       "      <td>3732</td>\n",
       "      <td>54221</td>\n",
       "      <td>3732</td>\n",
       "      <td>18440</td>\n",
       "      <td>180327</td>\n",
       "      <td>138358</td>\n",
       "      <td>NaN</td>\n",
       "    </tr>\n",
       "    <tr>\n",
       "      <td>mean</td>\n",
       "      <td>NaN</td>\n",
       "      <td>NaN</td>\n",
       "      <td>NaN</td>\n",
       "      <td>NaN</td>\n",
       "      <td>NaN</td>\n",
       "      <td>NaN</td>\n",
       "      <td>NaN</td>\n",
       "      <td>NaN</td>\n",
       "      <td>6.443801</td>\n",
       "    </tr>\n",
       "    <tr>\n",
       "      <td>std</td>\n",
       "      <td>NaN</td>\n",
       "      <td>NaN</td>\n",
       "      <td>NaN</td>\n",
       "      <td>NaN</td>\n",
       "      <td>NaN</td>\n",
       "      <td>NaN</td>\n",
       "      <td>NaN</td>\n",
       "      <td>NaN</td>\n",
       "      <td>8.428525</td>\n",
       "    </tr>\n",
       "    <tr>\n",
       "      <td>min</td>\n",
       "      <td>NaN</td>\n",
       "      <td>NaN</td>\n",
       "      <td>NaN</td>\n",
       "      <td>NaN</td>\n",
       "      <td>NaN</td>\n",
       "      <td>NaN</td>\n",
       "      <td>NaN</td>\n",
       "      <td>NaN</td>\n",
       "      <td>0.000000</td>\n",
       "    </tr>\n",
       "    <tr>\n",
       "      <td>25%</td>\n",
       "      <td>NaN</td>\n",
       "      <td>NaN</td>\n",
       "      <td>NaN</td>\n",
       "      <td>NaN</td>\n",
       "      <td>NaN</td>\n",
       "      <td>NaN</td>\n",
       "      <td>NaN</td>\n",
       "      <td>NaN</td>\n",
       "      <td>0.000000</td>\n",
       "    </tr>\n",
       "    <tr>\n",
       "      <td>50%</td>\n",
       "      <td>NaN</td>\n",
       "      <td>NaN</td>\n",
       "      <td>NaN</td>\n",
       "      <td>NaN</td>\n",
       "      <td>NaN</td>\n",
       "      <td>NaN</td>\n",
       "      <td>NaN</td>\n",
       "      <td>NaN</td>\n",
       "      <td>0.000000</td>\n",
       "    </tr>\n",
       "    <tr>\n",
       "      <td>75%</td>\n",
       "      <td>NaN</td>\n",
       "      <td>NaN</td>\n",
       "      <td>NaN</td>\n",
       "      <td>NaN</td>\n",
       "      <td>NaN</td>\n",
       "      <td>NaN</td>\n",
       "      <td>NaN</td>\n",
       "      <td>NaN</td>\n",
       "      <td>17.000000</td>\n",
       "    </tr>\n",
       "    <tr>\n",
       "      <td>max</td>\n",
       "      <td>NaN</td>\n",
       "      <td>NaN</td>\n",
       "      <td>NaN</td>\n",
       "      <td>NaN</td>\n",
       "      <td>NaN</td>\n",
       "      <td>NaN</td>\n",
       "      <td>NaN</td>\n",
       "      <td>NaN</td>\n",
       "      <td>20.000000</td>\n",
       "    </tr>\n",
       "  </tbody>\n",
       "</table>\n",
       "</div>"
      ],
      "text/plain": [
       "             Date      Time Global_active_power Global_reactive_power Voltage  \\\n",
       "count      199998    199998              199998                199998  199998   \n",
       "unique        140      1440                3610                   391    2282   \n",
       "top     29/4/2007  18:13:00                   ?                 0.000       ?   \n",
       "freq         1440       139                3732                 54221    3732   \n",
       "mean          NaN       NaN                 NaN                   NaN     NaN   \n",
       "std           NaN       NaN                 NaN                   NaN     NaN   \n",
       "min           NaN       NaN                 NaN                   NaN     NaN   \n",
       "25%           NaN       NaN                 NaN                   NaN     NaN   \n",
       "50%           NaN       NaN                 NaN                   NaN     NaN   \n",
       "75%           NaN       NaN                 NaN                   NaN     NaN   \n",
       "max           NaN       NaN                 NaN                   NaN     NaN   \n",
       "\n",
       "       Global_intensity Sub_metering_1 Sub_metering_2  Sub_metering_3  \n",
       "count            199998         199998         199998   196266.000000  \n",
       "unique              205             72             80             NaN  \n",
       "top               1.400          0.000          0.000             NaN  \n",
       "freq              18440         180327         138358             NaN  \n",
       "mean                NaN            NaN            NaN        6.443801  \n",
       "std                 NaN            NaN            NaN        8.428525  \n",
       "min                 NaN            NaN            NaN        0.000000  \n",
       "25%                 NaN            NaN            NaN        0.000000  \n",
       "50%                 NaN            NaN            NaN        0.000000  \n",
       "75%                 NaN            NaN            NaN       17.000000  \n",
       "max                 NaN            NaN            NaN       20.000000  "
      ]
     },
     "execution_count": 9,
     "metadata": {},
     "output_type": "execute_result"
    }
   ],
   "source": [
    "df.describe(include=\"all\")"
   ]
  },
  {
   "cell_type": "markdown",
   "metadata": {},
   "source": [
    "### Exercice 11"
   ]
  },
  {
   "cell_type": "code",
   "execution_count": 12,
   "metadata": {},
   "outputs": [
    {
     "ename": "AttributeError",
     "evalue": "module 'pandas' has no attribute 'mean'",
     "output_type": "error",
     "traceback": [
      "\u001b[1;31m---------------------------------------------------------------------------\u001b[0m",
      "\u001b[1;31mAttributeError\u001b[0m                            Traceback (most recent call last)",
      "\u001b[1;32m<ipython-input-12-a3295d55f1b5>\u001b[0m in \u001b[0;36m<module>\u001b[1;34m\u001b[0m\n\u001b[1;32m----> 1\u001b[1;33m \u001b[0mprint\u001b[0m\u001b[1;33m(\u001b[0m\u001b[0mpd\u001b[0m\u001b[1;33m.\u001b[0m\u001b[0mmean\u001b[0m\u001b[1;33m(\u001b[0m\u001b[0mdf\u001b[0m\u001b[1;33m[\u001b[0m\u001b[1;34m\"Sub_metering_1\"\u001b[0m\u001b[1;33m]\u001b[0m\u001b[1;33m)\u001b[0m\u001b[1;33m)\u001b[0m\u001b[1;33m\u001b[0m\u001b[1;33m\u001b[0m\u001b[0m\n\u001b[0m\u001b[0;32m      2\u001b[0m \u001b[1;33m\u001b[0m\u001b[0m\n\u001b[0;32m      3\u001b[0m \u001b[0mdf\u001b[0m\u001b[1;33m.\u001b[0m\u001b[0mdropna\u001b[0m\u001b[1;33m(\u001b[0m\u001b[0minplace\u001b[0m\u001b[1;33m=\u001b[0m\u001b[1;32mTrue\u001b[0m\u001b[1;33m)\u001b[0m\u001b[1;33m\u001b[0m\u001b[1;33m\u001b[0m\u001b[0m\n\u001b[0;32m      4\u001b[0m \u001b[1;33m\u001b[0m\u001b[0m\n\u001b[0;32m      5\u001b[0m \u001b[0mdf\u001b[0m\u001b[1;33m.\u001b[0m\u001b[0mdescribe\u001b[0m\u001b[1;33m(\u001b[0m\u001b[0minclude\u001b[0m\u001b[1;33m=\u001b[0m\u001b[1;34m\"all\"\u001b[0m\u001b[1;33m)\u001b[0m\u001b[1;33m\u001b[0m\u001b[1;33m\u001b[0m\u001b[0m\n",
      "\u001b[1;31mAttributeError\u001b[0m: module 'pandas' has no attribute 'mean'"
     ]
    }
   ],
   "source": [
    "print(pd.mean(df[\"Sub_metering_1\"]))\n",
    "\n",
    "df.dropna(inplace=True)\n",
    "\n",
    "df.describe(include=\"all\")"
   ]
  }
 ],
 "metadata": {
  "kernelspec": {
   "display_name": "Python 3",
   "language": "python",
   "name": "python3"
  },
  "language_info": {
   "codemirror_mode": {
    "name": "ipython",
    "version": 3
   },
   "file_extension": ".py",
   "mimetype": "text/x-python",
   "name": "python",
   "nbconvert_exporter": "python",
   "pygments_lexer": "ipython3",
   "version": "3.6.8"
  }
 },
 "nbformat": 4,
 "nbformat_minor": 2
}
