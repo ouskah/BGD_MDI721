{
 "cells": [
  {
   "cell_type": "code",
   "execution_count": null,
   "metadata": {},
   "outputs": [],
   "source": [
    "#Imports\n",
    "%matplotlib notebook\n",
    "\n",
    "import sys\n",
    "import math                \n",
    "\n",
    "import numpy as np                  \n",
    "from numpy.linalg import inv\n",
    "\n",
    "from sklearn import linear_model as lm    \n",
    "import pandas as pd\n",
    "             \n",
    "from statistics import mean\n",
    "\n",
    "import statsmodels.regression.linear_model as sm\n",
    "\n",
    "import matplotlib.pyplot as plt\n",
    "import seaborn as sns\n",
    "\n",
    "sns.set_palette(\"colorblind\")\n",
    "color_blind_list = sns.color_palette(\"colorblind\", 8)"
   ]
  }
 ],
 "metadata": {
  "kernelspec": {
   "display_name": "Python 3",
   "language": "python",
   "name": "python3"
  },
  "language_info": {
   "codemirror_mode": {
    "name": "ipython",
    "version": 3
   },
   "file_extension": ".py",
   "mimetype": "text/x-python",
   "name": "python",
   "nbconvert_exporter": "python",
   "pygments_lexer": "ipython3",
   "version": "3.6.9"
  }
 },
 "nbformat": 4,
 "nbformat_minor": 4
}
