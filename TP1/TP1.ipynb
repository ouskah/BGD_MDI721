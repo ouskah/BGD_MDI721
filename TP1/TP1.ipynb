{
 "cells": [
  {
   "cell_type": "markdown",
   "metadata": {},
   "source": [
    "# Introduction: Python, Numpy, Pandas, *et al*.\n",
    "***\n"
   ]
  },
  {
   "cell_type": "markdown",
   "metadata": {},
   "source": [
    "### Computing environment\n",
    "\n",
    "`watermark` extension allow to track environment."
   ]
  },
  {
   "cell_type": "code",
   "execution_count": 1,
   "metadata": {
    "collapsed": false
   },
   "outputs": [
    {
     "name": "stdout",
     "output_type": "stream",
     "text": [
      "CPython 3.6.9\n",
      "IPython 7.8.0\n",
      "\n",
      "numpy 1.16.5\n",
      "black not installed\n",
      "jupyterlab 1.1.3\n"
     ]
    }
   ],
   "source": [
    "%load_ext watermark\n",
    "%watermark -v -p numpy,black,jupyterlab"
   ]
  },
  {
   "cell_type": "markdown",
   "metadata": {},
   "source": [
    "*Importation des modules nécessaires au TP.*"
   ]
  },
  {
   "cell_type": "code",
   "execution_count": 2,
   "metadata": {
    "collapsed": true
   },
   "outputs": [],
   "source": [
    "import math\n",
    "import sympy\n",
    "import string\n",
    "\n",
    "import random\n",
    "import time\n",
    "\n",
    "import numpy as np"
   ]
  },
  {
   "cell_type": "markdown",
   "metadata": {},
   "source": [
    "### Exercice 1\n",
    "\n",
    "Écrire une fonction `nextpower` qui calcule la première puissance de $2$ supérieure ou égale à un nombre $n$ (on veillera à ce que le type de sortie soit un `int`, tester cela avec `type` par exemple).\n"
   ]
  },
  {
   "cell_type": "code",
   "execution_count": 3,
   "metadata": {
    "collapsed": false
   },
   "outputs": [
    {
     "name": "stdout",
     "output_type": "stream",
     "text": [
      "La première puissance de 2 >= 1 est 1 (<class 'int'>)\n",
      "La première puissance de 2 >= 2 est 2 (<class 'int'>)\n",
      "La première puissance de 2 >= 3 est 4 (<class 'int'>)\n",
      "La première puissance de 2 >= 4 est 4 (<class 'int'>)\n",
      "La première puissance de 2 >= 5 est 8 (<class 'int'>)\n"
     ]
    }
   ],
   "source": [
    "def nextpower(n):\n",
    "    \n",
    "    result = 1.0\n",
    "    \n",
    "    i = 0\n",
    "    while (result < n):\n",
    "        result = math.pow(2, i)\n",
    "        i = i + 1\n",
    "\n",
    "    return int(result)\n",
    "\n",
    "# test the function\n",
    "tab = [1, 2, 3, 4, 5]\n",
    "for n in tab:\n",
    "    print(\"La première puissance de 2 >= {:} est {:} ({:})\"\n",
    "          .format(n, nextpower(n), type(nextpower(n))))\n"
   ]
  },
  {
   "cell_type": "markdown",
   "metadata": {},
   "source": [
    "### Exercice 2\n",
    "\n",
    "En partant du mot contenant toutes les lettres de l’alphabet, générer par une opération de *slicing* la chaîne de caractère `cfilorux` et, de deux façons différentes, la chaîne de caractère `vxz`."
   ]
  },
  {
   "cell_type": "code",
   "execution_count": 4,
   "metadata": {
    "collapsed": false
   },
   "outputs": [
    {
     "name": "stdout",
     "output_type": "stream",
     "text": [
      "abcdefghijklmnopqrstuvwxyz ==> cfilorux\n",
      "abcdefghijklmnopqrstuvwxyz ==> vxz\n",
      "abcdefghijklmnopqrstuvwxyz ==> vxz\n"
     ]
    }
   ],
   "source": [
    "# generate alphabet letters (lower case only)\n",
    "alphabet = string.ascii_letters[0:26]\n",
    "\n",
    "print(\"{} ==> {}\".format(alphabet, alphabet[2:26:3]))\n",
    "print(\"{} ==> {}\".format(alphabet, alphabet[21:26:2]))\n",
    "print(\"{} ==> {}\".format(alphabet, alphabet[-5::2]))"
   ]
  },
  {
   "cell_type": "markdown",
   "metadata": {},
   "source": [
    "### Exercice 3\n",
    "\n",
    "Afficher le nombre $\\pi$ avec 9 décimales après la virgule."
   ]
  },
  {
   "cell_type": "code",
   "execution_count": 5,
   "metadata": {
    "collapsed": false
   },
   "outputs": [
    {
     "name": "stdout",
     "output_type": "stream",
     "text": [
      "le nombre Pi est égal à 3.141592654\n"
     ]
    }
   ],
   "source": [
    "print(\"le nombre Pi est égal à {:.9f}\".format(math.pi))"
   ]
  },
  {
   "cell_type": "markdown",
   "metadata": {},
   "source": [
    "### Exercice 4\n",
    "\n",
    "Compter le nombre d’occurrences de chaque caractère dans la chaîne de caractères `s=\"HelLo WorLd!!\"`. On renverra un dictionnaire qui à chaque lettre associe son nombre d’occurrences."
   ]
  },
  {
   "cell_type": "code",
   "execution_count": 6,
   "metadata": {
    "collapsed": false
   },
   "outputs": [
    {
     "name": "stdout",
     "output_type": "stream",
     "text": [
      "HelLo WorLd!! ==> {'H': 1, 'e': 1, 'l': 1, 'L': 2, 'o': 2, ' ': 1, 'W': 1, 'r': 1, 'd': 1, '!': 2}\n",
      "running time = 0.0\n",
      "2.51 µs ± 17 ns per loop (mean ± std. dev. of 7 runs, 100000 loops each)\n"
     ]
    }
   ],
   "source": [
    "def wordCount(string):\n",
    "    \n",
    "    result = {}\n",
    "    for c in string:\n",
    "        if c not in result:\n",
    "            # create (key, value) and set value at 1\n",
    "            result[c] = 1\n",
    "        else:\n",
    "            # increment value\n",
    "            result[c] += 1\n",
    "    \n",
    "    return result\n",
    "\n",
    "# test\n",
    "s = \"HelLo WorLd!!\"\n",
    "\n",
    "t_start = time.time()\n",
    "\n",
    "d = wordCount(s)\n",
    "\n",
    "t_stop = time.time()\n",
    "\n",
    "print(\"{} ==> {}\".format(s, d))\n",
    "\n",
    "print(\"running time = {}\".format(t_stop - t_start))\n",
    "\n",
    "# Use of ipython magic (mini command) to compute time \n",
    "%timeit d = wordCount(s) "
   ]
  },
  {
   "cell_type": "markdown",
   "metadata": {},
   "source": [
    "### Exercice 5\n",
    "\n",
    "Écrire une fonction de codage par inversion de lettres: chaque lettre d’un mot est remplacée par une (et une seule) autre. On se servira de la fonction `shuffle` sur la chaîne de caractères contenant tout l’alphabet pour associer les lettres codées."
   ]
  },
  {
   "cell_type": "code",
   "execution_count": 7,
   "metadata": {
    "collapsed": false
   },
   "outputs": [
    {
     "name": "stdout",
     "output_type": "stream",
     "text": [
      "original sentence: Je m'interesse a l'avenir parce que c'est la que je vais passer le reste de ma vie.\n",
      "coded sentence:    9/.P[m's/\"/ZZ/.S.h[Sk/'m\".?S\"j/.2 /.j[/Zs.hS.2 /.l/.kSmZ.?SZZ/\".h/.\"/Zs/.p/.PS.km/;\n",
      "decoded sentence:  Je m'interesse a l'avenir parce que c'est la que je vais passer le reste de ma vie.\n"
     ]
    }
   ],
   "source": [
    "def cesar_keygen(seed=None):\n",
    "    '''\n",
    "    Generates the encryption key.\n",
    "    '''\n",
    "    random.seed(seed)\n",
    " \n",
    "    # The keys include letters (upper and lower), digits, punctuations and white space.\n",
    "    keys = string.ascii_letters + string.digits + string.punctuation + ' ' + '\\n'\n",
    "    alphabet = list(keys)    \n",
    "    key_list = list(keys)\n",
    " \n",
    "#    alphabet = list(string.printable)    \n",
    "#    key_list = list(string.printable)\n",
    "\n",
    "    random.shuffle(key_list)\n",
    "\n",
    "    encoder = {}\n",
    "    decoder = {}\n",
    "\n",
    "    for idx, c in enumerate(alphabet):\n",
    "        key = key_list[idx]\n",
    "        encoder[c] = key\n",
    "        decoder[key] = c\n",
    "\n",
    "    return (encoder, decoder)\n",
    "\n",
    "def cesar_encode(encoder, string):\n",
    "    '''\n",
    "    Encodes a string.\n",
    "    '''\n",
    "    list_in = list(string)\n",
    "    list_out = []\n",
    "    \n",
    "    for c in list_in:\n",
    "        list_out.append(encoder[c])\n",
    "    \n",
    "    return \"\".join(list_out)\n",
    "\n",
    "def cesar_decode(decoder, string):\n",
    "    '''\n",
    "    Decodes the string.\n",
    "    '''\n",
    "    list_in = list(string)\n",
    "    list_out = []\n",
    "    \n",
    "    for c in list_in:\n",
    "        list_out.append(decoder[c])\n",
    "    \n",
    "    return \"\".join(list_out)\n",
    "\n",
    "# Test\n",
    "# Build structures to encode and decode\n",
    "encoder, decoder = cesar_keygen(seed=3)\n",
    "\n",
    "s1 = (\"Je m'interesse a l'avenir \"\n",
    "      \"parce que c'est la que je vais passer le reste de ma vie.\")\n",
    "\n",
    "#s1 = \"abcdefghijklmnopqrstuvwxyz\"\n",
    "s2 = cesar_encode(encoder, s1)\n",
    "s3 = cesar_decode(decoder, s2)\n",
    "\n",
    "print(\"original sentence: {:s}\".format(s1))\n",
    "print(\"coded sentence:    {:s}\".format(s2))\n",
    "print(\"decoded sentence:  {:s}\".format(s3))    "
   ]
  },
  {
   "cell_type": "markdown",
   "metadata": {},
   "source": [
    "### Exercice 6\n",
    "\n",
    "Calculer $\\displaystyle{2 \\sum_{k=1}^{\\infty} \\frac{4 k^2}{4 k^2 - 1}}$ efficacement. On pourra utiliser `time` (ou `%timeit`) pour déterminer la rapidité de votre méthode. Proposer une version avec et une version sans boucle (utilisant `Numpy`)."
   ]
  },
  {
   "cell_type": "code",
   "execution_count": 8,
   "metadata": {
    "collapsed": false
   },
   "outputs": [
    {
     "name": "stdout",
     "output_type": "stream",
     "text": [
      "with loop::n = 1000000 => v = 3.141591868192149 //// t = 0.632895\n",
      "with numpy::n = 1000000 => v = 3.141591868192149 //// t = 0.039575\n"
     ]
    }
   ],
   "source": [
    "# Compute the running time of the cell\n",
    "#%%timeit\n",
    "\n",
    "def product_1(n):\n",
    "    \"\"\"\n",
    "    with loop -- Compute an approximation of pi.\n",
    "    \"\"\"\n",
    "    result = 1.0\n",
    "    for k in range(1, n + 1):\n",
    "        k2 = float(k * k)\n",
    "        tmp = 4. * k2 / (4. * k2 - 1.)\n",
    "        result *= tmp\n",
    "        \n",
    "    return 2.0 * result\n",
    "\n",
    "def product_2(n):\n",
    "    \"\"\"\n",
    "    with numpy -- Compute an approximation of pi.\n",
    "    \"\"\"\n",
    "    k = np.arange(1, n + 1, dtype=np.float)\n",
    "    k2 = np.square(k)\n",
    "    a = 4. * k2 / (4. * k2 - 1.)\n",
    "    \n",
    "    return 2.0 * np.prod(a)\n",
    "\n",
    "# Test\n",
    "n = 1000000\n",
    "\n",
    "# Computation with a loop\n",
    "# =======================\n",
    "t_start = time.time()\n",
    "\n",
    "v1 = product_1(n)\n",
    "\n",
    "t_stop = time.time()\n",
    "\n",
    "t1 = t_stop - t_start\n",
    "print(\"with loop::n = {} => v = {} //// t = {:.6f}\".format(n, v1, t1))\n",
    "\n",
    "# Computation with numpy\n",
    "# ======================\n",
    "t_start = time.time()\n",
    "\n",
    "v2 = product_2(n)\n",
    "\n",
    "t_stop = time.time()\n",
    "\n",
    "t2 = t_stop - t_start\n",
    "print(\"with numpy::n = {} => v = {} //// t = {:.6f}\".format(n, v2, t2))\n",
    "            "
   ]
  },
  {
   "cell_type": "markdown",
   "metadata": {},
   "source": [
    "### Exercice 7\n",
    "\n",
    "Créer une fonction `quicksort` qui trie une liste, en remplissant les éléments manquants dans le code\n",
    "suivant. On testera que la fonction est correcte sur l’exemple `quicksort([-2, 3, 5, 1, 3])` :"
   ]
  },
  {
   "cell_type": "code",
   "execution_count": 15,
   "metadata": {
    "collapsed": false
   },
   "outputs": [
    {
     "name": "stdout",
     "output_type": "stream",
     "text": [
      "[-2, 3, 5, 1, 3] => [-2, 1, 3, 3, 5]\n"
     ]
    }
   ],
   "source": [
    "import copy\n",
    "\n",
    "def quicksort(ll):\n",
    "    \"\"\" a sorting algorithm with a pivot value\"\"\"\n",
    "    \n",
    "    if len(ll) <= 1:\n",
    "        return ll\n",
    "    else:\n",
    "        tmp = copy.copy(ll)\n",
    "\n",
    "        # pivot = last element of the list ll.\n",
    "        pivot = tmp.pop()\n",
    "        less = []\n",
    "        greater = []\n",
    "\n",
    "        for x in tmp:\n",
    "            if x <= pivot:\n",
    "                less.append(x)\n",
    "            else:\n",
    "                greater.append(x)\n",
    "\n",
    "        return quicksort(less) + [pivot] + quicksort(greater)\n",
    "\n",
    "# Test\n",
    "l1 = [-2, 3, 5, 1, 3]\n",
    "\n",
    "l2 = quicksort(l1)\n",
    "\n",
    "print(\"{} => {}\".format(l1, l2))"
   ]
  },
  {
   "cell_type": "markdown",
   "metadata": {},
   "source": [
    "### Exercice 8\n",
    "\n",
    "Sans utiliser de boucles `for / while` : créer une matrice $\\mathbf{M} \\in \\mathbb{R}^{5 \\times 6}$ aléatoire à coefficients uniformes dans $[-1, 1]$, puis remplacer une colonne sur deux par sa valeur moins le double de la colonne suivante. Remplacer enfin les valeurs négatives par 0 en utilisant un masque binaire."
   ]
  },
  {
   "cell_type": "code",
   "execution_count": 16,
   "metadata": {
    "collapsed": false
   },
   "outputs": [
    {
     "name": "stdout",
     "output_type": "stream",
     "text": [
      "[[ 0.934060  0.094464  0.945369  0.429632  0.395458 -0.567821]\n",
      " [ 0.952549 -0.987539 -0.494035 -0.130417  0.558766 -0.604630]\n",
      " [ 0.725986  0.966801 -0.672316  0.194668 -0.982028 -0.226857]\n",
      " [-0.911680  0.913306 -0.127707  0.897955  0.572612  0.732579]\n",
      " [-0.653669 -0.850103  0.201485 -0.664056  0.466760 -0.183112]]\n",
      "\n",
      "[[ 0.745131  0.094464  0.086105  0.429632  1.531100 -0.567821]\n",
      " [ 2.927628 -0.987539 -0.233201 -0.130417  1.768026 -0.604630]\n",
      " [-1.207616  0.966801 -1.061651  0.194668 -0.528313 -0.226857]\n",
      " [-2.738292  0.913306 -1.923616  0.897955 -0.892545  0.732579]\n",
      " [ 1.046536 -0.850103  1.529597 -0.664056  0.832985 -0.183112]]\n",
      "\n",
      "[[0.745131 0.094464 0.086105 0.429632 1.531100 0.000000]\n",
      " [2.927628 0.000000 0.000000 0.000000 1.768026 0.000000]\n",
      " [0.000000 0.966801 0.000000 0.194668 0.000000 0.000000]\n",
      " [0.000000 0.913306 0.000000 0.897955 0.000000 0.732579]\n",
      " [1.046536 0.000000 1.529597 0.000000 0.832985 0.000000]]\n",
      "\n"
     ]
    }
   ],
   "source": [
    "# Control the random generator for repeatability\n",
    "np.random.seed(4)\n",
    "\n",
    "# Control the displayed precision\n",
    "np.set_printoptions(precision=6, floatmode='fixed')\n",
    "\n",
    "# Generate random matrix\n",
    "mat = np.random.uniform(-1.0, 1.0, (5, 6))\n",
    "\n",
    "print(\"{}\\n\".format(mat, decimals=3))\n",
    "\n",
    "# Replace a column every 2\n",
    "mat[:, ::2] -= 2.0 * mat[:, 1::2]\n",
    "\n",
    "print(\"{}\\n\".format(mat))\n",
    "\n",
    "# Binary mask - Replace negative value by 0\n",
    "mat[mat < 0.0] = 0.0\n",
    "\n",
    "print(\"{}\\n\".format(mat))"
   ]
  },
  {
   "cell_type": "markdown",
   "metadata": {},
   "source": [
    "### Exercice 9\n",
    "\n",
    "Créer une matrice $\\mathbf{M} \\in \\mathbb{R}^{5 \\times 20}$ aléatoire à coefficients uniformes dans $[-1, 1]$. Tester que $\\mathbf{G} = \\mathbf{M}^T \\mathbf{M}$ est symétrique et que ses valeurs propres sont positives (on parle de alors de matrice définie positive). Quel est le rang de $\\mathbf{G}$ ?\n"
   ]
  },
  {
   "cell_type": "code",
   "execution_count": 17,
   "metadata": {
    "collapsed": false
   },
   "outputs": [
    {
     "name": "stdout",
     "output_type": "stream",
     "text": [
      "G = G.T ? True\n",
      "G - G.T < eps ? True\n",
      "G = G.T ? True\n",
      "The rank of the matrix G is 5.\n"
     ]
    }
   ],
   "source": [
    "# load method to compute matrix rank of array using SVD method\n",
    "from numpy.linalg import matrix_rank\n",
    "\n",
    "# Control the random generator for repeatability\n",
    "np.random.seed(4)\n",
    "\n",
    "# Control the displayed precision\n",
    "np.set_printoptions(precision=2, floatmode='fixed')\n",
    "\n",
    "# Create random matrix\n",
    "matrix_M = np.random.uniform(-1.0, 1.0, (5, 20))\n",
    "\n",
    "# Compute G\n",
    "matrix_G = np.dot(matrix_M.T, matrix_M)\n",
    "\n",
    "# The matrix G is symmetric if G = G^T\n",
    "eps = 1.0e-6\n",
    "\n",
    "print(\"G = G.T ? {}\".format(np.allclose(matrix_G, matrix_G.T)))\n",
    "print(\"G - G.T < eps ? {}\".format(np.all(np.fabs(matrix_G - matrix_G.T) < eps)))\n",
    "print(\"G = G.T ? {}\".format(np.array_equal(matrix_G, matrix_G.T)))\n",
    "\n",
    "# Computation of the rank of the matrix using numpy.linalg.matrix_rank()\n",
    "print(\"The rank of the matrix G is {}.\".format(matrix_rank(matrix_G)))"
   ]
  },
  {
   "cell_type": "markdown",
   "metadata": {},
   "source": [
    "# Introduction à Pandas, Matplotlib, etc.\n",
    "***\n",
    "\n",
    "On utilise la base de données Individual household electric power consumption Data Set, que l’on pourra télécharger depuis https://bitbucket.org/portierf/shared_files/downloads/household_power_consumption.txt"
   ]
  },
  {
   "cell_type": "code",
   "execution_count": 18,
   "metadata": {
    "collapsed": true
   },
   "outputs": [],
   "source": [
    "import pandas as pd\n",
    "\n",
    "import matplotlib.pyplot as plt\n",
    "import seaborn as sns"
   ]
  },
  {
   "cell_type": "markdown",
   "metadata": {},
   "source": [
    "### Exercice 10\n",
    "\n",
    "Charger la base puis détecter et dénombrer le nombre de lignes ayant des valeurs manquantes."
   ]
  },
  {
   "cell_type": "code",
   "execution_count": 19,
   "metadata": {
    "collapsed": false
   },
   "outputs": [
    {
     "name": "stdout",
     "output_type": "stream",
     "text": [
      "Date                    object\n",
      "Time                    object\n",
      "Global_active_power    float64\n",
      "Sub_metering_1         float64\n",
      "dtype: object\n",
      "Are all values correct number? \n",
      "taille des données NULL: (3732, 4)\n",
      "             Date      Time  Global_active_power  Sub_metering_1\n",
      "6839   21/12/2006  11:23:00                  NaN             NaN\n",
      "6840   21/12/2006  11:24:00                  NaN             NaN\n",
      "19724  30/12/2006  10:08:00                  NaN             NaN\n",
      "null data {} Date                   21/12/200621/12/200630/12/200630/12/200614/1/2...\n",
      "Time                   11:23:0011:24:0010:08:0010:09:0018:36:0017:13:...\n",
      "Global_active_power                                                    0\n",
      "Sub_metering_1                                                         0\n",
      "dtype: object\n",
      "There are 7464 total missing values\n",
      "There are 3732 lines with missing values\n",
      "Le nombre de lignes ayant des valeurs manquantes est: 3732\n"
     ]
    }
   ],
   "source": [
    "na_values = ['?', '']\n",
    "columns = ['Date', 'Time', 'Global_active_power', 'Sub_metering_1']\n",
    "\n",
    "# load data file\n",
    "df = pd.read_csv(\"household_power_consumption_short.txt\", sep=\";\",\n",
    "                 na_values=na_values, \n",
    "                 usecols=columns,)\n",
    "#                 low_memory=False)\n",
    "\n",
    "print(df.dtypes)\n",
    "\n",
    "all_correct = np.all(pd.notnull(df['Global_active_power']))\n",
    "print(\"Are all values correct number? \".format(all_correct))\n",
    "\n",
    "null_data = df[df.isna().any(axis=1)]\n",
    "print(\"taille des données NULL: {}\".format(null_data.shape))\n",
    "\n",
    "print(null_data.head(3))\n",
    "\n",
    "print(\"null data {}\", null_data.sum())\n",
    "print(\"There are \" + str(null_data.isna().sum().sum()) + ' total missing values')\n",
    "print(\"There are \" + str(null_data.shape[0]) + ' lines with missing values')\n",
    "\n",
    "# rows where there Nan values in one of both columns\n",
    "n_missing = sum(df['Sub_metering_1'].isna() | df['Global_active_power'].isna())\n",
    "\n",
    "print(\"Le nombre de lignes ayant des valeurs manquantes est: {}\".format(n_missing))"
   ]
  },
  {
   "cell_type": "code",
   "execution_count": null,
   "metadata": {
    "collapsed": true
   },
   "outputs": [],
   "source": [
    "df.head(5)"
   ]
  },
  {
   "cell_type": "code",
   "execution_count": null,
   "metadata": {
    "collapsed": true
   },
   "outputs": [],
   "source": [
    "df.describe(include=\"all\")"
   ]
  },
  {
   "cell_type": "markdown",
   "metadata": {},
   "source": [
    "### Exercice 11\n",
    "\n",
    "Supprimer toutes les lignes avec des valeurs manquantes."
   ]
  },
  {
   "cell_type": "code",
   "execution_count": 20,
   "metadata": {
    "collapsed": false
   },
   "outputs": [
    {
     "name": "stdout",
     "output_type": "stream",
     "text": [
      "Le nombre de lignes ayant des valeurs manquantes est: 0\n",
      "la taille des données est: (196266, 4)\n"
     ]
    }
   ],
   "source": [
    "# remove rows (axis=0) containing missing values\n",
    "df.dropna(axis=0, inplace=True)\n",
    "\n",
    "# rows where there Nan values in one of both columns\n",
    "n_missing = sum(df['Sub_metering_1'].isna() | df['Global_active_power'].isna())\n",
    "\n",
    "print(\"Le nombre de lignes ayant des valeurs manquantes est: {}\".format(n_missing))\n",
    "\n",
    "print(\"la taille des données est: {}\".format(df.shape))"
   ]
  },
  {
   "cell_type": "code",
   "execution_count": 21,
   "metadata": {
    "collapsed": false
   },
   "outputs": [
    {
     "data": {
      "text/html": [
       "<div>\n",
       "<style scoped>\n",
       "    .dataframe tbody tr th:only-of-type {\n",
       "        vertical-align: middle;\n",
       "    }\n",
       "\n",
       "    .dataframe tbody tr th {\n",
       "        vertical-align: top;\n",
       "    }\n",
       "\n",
       "    .dataframe thead th {\n",
       "        text-align: right;\n",
       "    }\n",
       "</style>\n",
       "<table border=\"1\" class=\"dataframe\">\n",
       "  <thead>\n",
       "    <tr style=\"text-align: right;\">\n",
       "      <th></th>\n",
       "      <th>Date</th>\n",
       "      <th>Time</th>\n",
       "      <th>Global_active_power</th>\n",
       "      <th>Sub_metering_1</th>\n",
       "    </tr>\n",
       "  </thead>\n",
       "  <tbody>\n",
       "    <tr>\n",
       "      <td>0</td>\n",
       "      <td>16/12/2006</td>\n",
       "      <td>17:24:00</td>\n",
       "      <td>4.216</td>\n",
       "      <td>0.0</td>\n",
       "    </tr>\n",
       "    <tr>\n",
       "      <td>1</td>\n",
       "      <td>16/12/2006</td>\n",
       "      <td>17:25:00</td>\n",
       "      <td>5.360</td>\n",
       "      <td>0.0</td>\n",
       "    </tr>\n",
       "    <tr>\n",
       "      <td>2</td>\n",
       "      <td>16/12/2006</td>\n",
       "      <td>17:26:00</td>\n",
       "      <td>5.374</td>\n",
       "      <td>0.0</td>\n",
       "    </tr>\n",
       "    <tr>\n",
       "      <td>3</td>\n",
       "      <td>16/12/2006</td>\n",
       "      <td>17:27:00</td>\n",
       "      <td>5.388</td>\n",
       "      <td>0.0</td>\n",
       "    </tr>\n",
       "    <tr>\n",
       "      <td>4</td>\n",
       "      <td>16/12/2006</td>\n",
       "      <td>17:28:00</td>\n",
       "      <td>3.666</td>\n",
       "      <td>0.0</td>\n",
       "    </tr>\n",
       "  </tbody>\n",
       "</table>\n",
       "</div>"
      ],
      "text/plain": [
       "         Date      Time  Global_active_power  Sub_metering_1\n",
       "0  16/12/2006  17:24:00                4.216             0.0\n",
       "1  16/12/2006  17:25:00                5.360             0.0\n",
       "2  16/12/2006  17:26:00                5.374             0.0\n",
       "3  16/12/2006  17:27:00                5.388             0.0\n",
       "4  16/12/2006  17:28:00                3.666             0.0"
      ]
     },
     "execution_count": 21,
     "metadata": {},
     "output_type": "execute_result"
    }
   ],
   "source": [
    "df.head(5)"
   ]
  },
  {
   "cell_type": "code",
   "execution_count": 22,
   "metadata": {
    "collapsed": false
   },
   "outputs": [
    {
     "data": {
      "image/png": "[encoded data removed]",
      "text/plain": [
       "<Figure size 432x288 with 1 Axes>"
      ]
     },
     "metadata": {
      "needs_background": "light"
     },
     "output_type": "display_data"
    }
   ],
   "source": [
    "%matplotlib inline\n",
    "\n",
    "fig = plt.figure()\n",
    "plt.grid(True)\n",
    "\n",
    "plt.title(\"Sub_metering_1\")\n",
    "plt.xlabel(\"row\")\n",
    "plt.ylabel(\"y\")\n",
    "\n",
    "plt.plot(df.index, df['Sub_metering_1'], label='Sub_metering_1')\n",
    "plt.plot(df.index, df['Global_active_power'], label='Global_active_power')\n",
    "\n",
    "plt.legend(loc='upper right');\n",
    "\n",
    "plt.show()"
   ]
  },
  {
   "cell_type": "markdown",
   "metadata": {},
   "source": [
    "### Exercice 12\n",
    "\n",
    "Modifier la variable `Sub_metering_1` en la multipliant par 0.06."
   ]
  },
  {
   "cell_type": "code",
   "execution_count": 23,
   "metadata": {
    "collapsed": true
   },
   "outputs": [],
   "source": [
    "df['Sub_metering_1'] *= 0.06"
   ]
  },
  {
   "cell_type": "code",
   "execution_count": 24,
   "metadata": {
    "collapsed": false
   },
   "outputs": [
    {
     "data": {
      "image/png": "[encoded data removed]",
      "text/plain": [
       "<Figure size 432x288 with 1 Axes>"
      ]
     },
     "metadata": {
      "needs_background": "light"
     },
     "output_type": "display_data"
    }
   ],
   "source": [
    "%matplotlib inline\n",
    "\n",
    "fig = plt.figure()\n",
    "plt.grid(True)\n",
    "\n",
    "plt.title(\"Sub_metering_1\")\n",
    "plt.xlabel(\"row\")\n",
    "plt.ylabel(\"y\")\n",
    "\n",
    "plt.plot(df.index, df['Sub_metering_1'], label='Sub_metering_1')\n",
    "plt.plot(df.index, df['Global_active_power'], label='Global_active_power')\n",
    "\n",
    "plt.legend(loc='upper right');\n",
    "\n",
    "plt.show()"
   ]
  },
  {
   "cell_type": "markdown",
   "metadata": {},
   "source": [
    "### Excercice 13\n",
    "\n",
    "Utiliser `to_datetime` et `set_index` pour créer un *DataFrame* (on prendra garde au format des dates internationales qui diffère du format français)."
   ]
  },
  {
   "cell_type": "code",
   "execution_count": 25,
   "metadata": {
    "collapsed": false
   },
   "outputs": [
    {
     "data": {
      "text/html": [
       "<div>\n",
       "<style scoped>\n",
       "    .dataframe tbody tr th:only-of-type {\n",
       "        vertical-align: middle;\n",
       "    }\n",
       "\n",
       "    .dataframe tbody tr th {\n",
       "        vertical-align: top;\n",
       "    }\n",
       "\n",
       "    .dataframe thead th {\n",
       "        text-align: right;\n",
       "    }\n",
       "</style>\n",
       "<table border=\"1\" class=\"dataframe\">\n",
       "  <thead>\n",
       "    <tr style=\"text-align: right;\">\n",
       "      <th></th>\n",
       "      <th>Global_active_power</th>\n",
       "      <th>Sub_metering_1</th>\n",
       "    </tr>\n",
       "  </thead>\n",
       "  <tbody>\n",
       "    <tr>\n",
       "      <td>2006-12-16 17:24:00</td>\n",
       "      <td>4.216</td>\n",
       "      <td>0.0</td>\n",
       "    </tr>\n",
       "    <tr>\n",
       "      <td>2006-12-16 17:25:00</td>\n",
       "      <td>5.360</td>\n",
       "      <td>0.0</td>\n",
       "    </tr>\n",
       "    <tr>\n",
       "      <td>2006-12-16 17:26:00</td>\n",
       "      <td>5.374</td>\n",
       "      <td>0.0</td>\n",
       "    </tr>\n",
       "    <tr>\n",
       "      <td>2006-12-16 17:27:00</td>\n",
       "      <td>5.388</td>\n",
       "      <td>0.0</td>\n",
       "    </tr>\n",
       "  </tbody>\n",
       "</table>\n",
       "</div>"
      ],
      "text/plain": [
       "                     Global_active_power  Sub_metering_1\n",
       "2006-12-16 17:24:00                4.216             0.0\n",
       "2006-12-16 17:25:00                5.360             0.0\n",
       "2006-12-16 17:26:00                5.374             0.0\n",
       "2006-12-16 17:27:00                5.388             0.0"
      ]
     },
     "execution_count": 25,
     "metadata": {},
     "output_type": "execute_result"
    }
   ],
   "source": [
    "df_date =  pd.to_datetime(df['Date'] + ' ' + df['Time'],\n",
    "                          format=\"%d/%m/%Y %H:%M:%S\",\n",
    "                          dayfirst=True)\n",
    "\n",
    "df_date.head()\n",
    "# use date as index\n",
    "df.set_index(df_date, inplace=True)\n",
    "\n",
    "# 'Date' and 'Time' can be removed\n",
    "df = df.drop(columns=['Date', 'Time'])\n",
    "\n",
    "df.head(4)"
   ]
  },
  {
   "cell_type": "markdown",
   "metadata": {},
   "source": [
    "### Exercice 14\n",
    "\n",
    "Afficher le graphique des moyennes journalières entre le 1er janvier et le 30 avril 2007. Proposer une cause expliquant la consommation fin février et début avril. On pourra utiliser en plus de *matplotlib* le package *seaborn* pour améliorer le rendu visuel."
   ]
  },
  {
   "cell_type": "code",
   "execution_count": 26,
   "metadata": {
    "collapsed": false
   },
   "outputs": [
    {
     "data": {
      "text/html": [
       "<div>\n",
       "<style scoped>\n",
       "    .dataframe tbody tr th:only-of-type {\n",
       "        vertical-align: middle;\n",
       "    }\n",
       "\n",
       "    .dataframe tbody tr th {\n",
       "        vertical-align: top;\n",
       "    }\n",
       "\n",
       "    .dataframe thead th {\n",
       "        text-align: right;\n",
       "    }\n",
       "</style>\n",
       "<table border=\"1\" class=\"dataframe\">\n",
       "  <thead>\n",
       "    <tr style=\"text-align: right;\">\n",
       "      <th></th>\n",
       "      <th>Global_active_power</th>\n",
       "      <th>Sub_metering_1</th>\n",
       "    </tr>\n",
       "  </thead>\n",
       "  <tbody>\n",
       "    <tr>\n",
       "      <td>2007-01-01</td>\n",
       "      <td>1.909031</td>\n",
       "      <td>0.000000</td>\n",
       "    </tr>\n",
       "    <tr>\n",
       "      <td>2007-01-02</td>\n",
       "      <td>0.881414</td>\n",
       "      <td>0.000000</td>\n",
       "    </tr>\n",
       "    <tr>\n",
       "      <td>2007-01-03</td>\n",
       "      <td>0.704204</td>\n",
       "      <td>0.000000</td>\n",
       "    </tr>\n",
       "    <tr>\n",
       "      <td>2007-01-04</td>\n",
       "      <td>2.263481</td>\n",
       "      <td>0.043792</td>\n",
       "    </tr>\n",
       "    <tr>\n",
       "      <td>2007-01-05</td>\n",
       "      <td>1.884281</td>\n",
       "      <td>0.061792</td>\n",
       "    </tr>\n",
       "  </tbody>\n",
       "</table>\n",
       "</div>"
      ],
      "text/plain": [
       "            Global_active_power  Sub_metering_1\n",
       "2007-01-01             1.909031        0.000000\n",
       "2007-01-02             0.881414        0.000000\n",
       "2007-01-03             0.704204        0.000000\n",
       "2007-01-04             2.263481        0.043792\n",
       "2007-01-05             1.884281        0.061792"
      ]
     },
     "execution_count": 26,
     "metadata": {},
     "output_type": "execute_result"
    }
   ],
   "source": [
    "day_first = '01-01-2007'\n",
    "day_last = '30-04-2007'\n",
    "\n",
    "df_2007 = df[day_first:day_last]\n",
    "\n",
    "# Compute the daily average.\n",
    "# Note assume that index is datetime format.\n",
    "df_2007_avg = df_2007.resample('D').mean()\n",
    "\n",
    "df_2007_avg.head(5)"
   ]
  },
  {
   "cell_type": "code",
   "execution_count": 28,
   "metadata": {
    "collapsed": false
   },
   "outputs": [
    {
     "data": {
      "image/png": "[encoded data removed]",
      "text/plain": [
       "<Figure size 432x288 with 1 Axes>"
      ]
     },
     "metadata": {
      "needs_background": "light"
     },
     "output_type": "display_data"
    }
   ],
   "source": [
    "%matplotlib inline\n",
    "\n",
    "# Register Pandas Formatters and Converters with matplotlib\n",
    "from pandas.plotting import register_matplotlib_converters\n",
    "register_matplotlib_converters()\n",
    "    \n",
    "fig = plt.figure()\n",
    "plt.grid(True)\n",
    "\n",
    "plt.title(\"Consumption\")\n",
    "plt.xlabel(\"Date\")\n",
    "plt.xticks(rotation=45)\n",
    "\n",
    "plt.ylabel(\"y\")\n",
    "\n",
    "plt.plot(df_2007_avg.index, df_2007_avg['Sub_metering_1'], label='Sub_metering_1')\n",
    "plt.plot(df_2007_avg.index, df_2007_avg['Global_active_power'], label='Global_active_power')\n",
    "\n",
    "plt.legend(loc='upper right');\n",
    "\n",
    "plt.show()"
   ]
  },
  {
   "cell_type": "markdown",
   "metadata": {},
   "source": [
    "On ajoute des informations de température pour cette étude : les données utiles étant disponibles ici https://bitbucket.org/portierf/shared_files/downloads/TG_STAID011249.txt\n",
    "\n",
    "Ici les températures relevées sont celles d’Orly (noter cependant qu’on ne connaît pas le lieux de relève de la précédente base de données)."
   ]
  },
  {
   "cell_type": "markdown",
   "metadata": {},
   "source": [
    "### Exercice 15\n",
    "\n",
    "Charger les données avec *pandas*, et ne garder que les colonnes `DATE` et `TG`. Diviser par 10 la colonne `TG` pour obtenir des températures en degrés Celsius. Traiter les éléments de température aberrants comme des `NaN`."
   ]
  },
  {
   "cell_type": "code",
   "execution_count": 29,
   "metadata": {
    "collapsed": false
   },
   "outputs": [
    {
     "name": "stdout",
     "output_type": "stream",
     "text": [
      "DATE      int64\n",
      "TG      float64\n",
      "dtype: object\n",
      "['DATE', 'TG']\n",
      "['Date', 'Temperature']\n",
      "Date           datetime64[ns]\n",
      "Temperature           float64\n",
      "dtype: object\n"
     ]
    },
    {
     "data": {
      "text/html": [
       "<div>\n",
       "<style scoped>\n",
       "    .dataframe tbody tr th:only-of-type {\n",
       "        vertical-align: middle;\n",
       "    }\n",
       "\n",
       "    .dataframe tbody tr th {\n",
       "        vertical-align: top;\n",
       "    }\n",
       "\n",
       "    .dataframe thead th {\n",
       "        text-align: right;\n",
       "    }\n",
       "</style>\n",
       "<table border=\"1\" class=\"dataframe\">\n",
       "  <thead>\n",
       "    <tr style=\"text-align: right;\">\n",
       "      <th></th>\n",
       "      <th>Temperature</th>\n",
       "    </tr>\n",
       "    <tr>\n",
       "      <th>Date</th>\n",
       "      <th></th>\n",
       "    </tr>\n",
       "  </thead>\n",
       "  <tbody>\n",
       "    <tr>\n",
       "      <td>1921-03-01</td>\n",
       "      <td>5.0</td>\n",
       "    </tr>\n",
       "    <tr>\n",
       "      <td>1921-03-02</td>\n",
       "      <td>4.6</td>\n",
       "    </tr>\n",
       "    <tr>\n",
       "      <td>1921-03-03</td>\n",
       "      <td>4.6</td>\n",
       "    </tr>\n",
       "    <tr>\n",
       "      <td>1921-03-04</td>\n",
       "      <td>3.1</td>\n",
       "    </tr>\n",
       "    <tr>\n",
       "      <td>1921-03-05</td>\n",
       "      <td>9.5</td>\n",
       "    </tr>\n",
       "    <tr>\n",
       "      <td>1921-03-06</td>\n",
       "      <td>7.2</td>\n",
       "    </tr>\n",
       "    <tr>\n",
       "      <td>1921-03-07</td>\n",
       "      <td>5.4</td>\n",
       "    </tr>\n",
       "    <tr>\n",
       "      <td>1921-03-08</td>\n",
       "      <td>3.3</td>\n",
       "    </tr>\n",
       "    <tr>\n",
       "      <td>1921-03-09</td>\n",
       "      <td>5.0</td>\n",
       "    </tr>\n",
       "    <tr>\n",
       "      <td>1921-03-10</td>\n",
       "      <td>7.1</td>\n",
       "    </tr>\n",
       "  </tbody>\n",
       "</table>\n",
       "</div>"
      ],
      "text/plain": [
       "            Temperature\n",
       "Date                   \n",
       "1921-03-01          5.0\n",
       "1921-03-02          4.6\n",
       "1921-03-03          4.6\n",
       "1921-03-04          3.1\n",
       "1921-03-05          9.5\n",
       "1921-03-06          7.2\n",
       "1921-03-07          5.4\n",
       "1921-03-08          3.3\n",
       "1921-03-09          5.0\n",
       "1921-03-10          7.1"
      ]
     },
     "execution_count": 29,
     "metadata": {},
     "output_type": "execute_result"
    },
    {
     "data": {
      "image/png": "[encoded data removed]",
      "text/plain": [
       "<Figure size 432x288 with 1 Axes>"
      ]
     },
     "metadata": {
      "needs_background": "light"
     },
     "output_type": "display_data"
    }
   ],
   "source": [
    "filename = \"TG_STAID011249.txt\"\n",
    "\n",
    "# Name of selected columns\n",
    "columns = ['DATE', 'TG']\n",
    "\n",
    "# skipinitialspace=True => strip column names\n",
    "# note that N/A values are coding with values -9999\n",
    "df2 = pd.read_csv(filename, sep=',', comment='#',\n",
    "                  usecols=columns,\n",
    "                  na_values=-9999,\n",
    "                  skipinitialspace=True)\n",
    "\n",
    "print(df2.dtypes)\n",
    "\n",
    "# Rename columns\n",
    "print(list(df2.columns))\n",
    "df2 = df2.rename(columns={'DATE':'Date', 'TG':'Temperature'})\n",
    "print(list(df2.columns))\n",
    "\n",
    "# Rescale temperature\n",
    "df2['Temperature'] = df2['Temperature'] / 10.\n",
    "\n",
    "# format date and set as index\n",
    "df2['Date'] = pd.to_datetime(df2['Date'], format='%Y%m%d')\n",
    "\n",
    "print(df2.dtypes)\n",
    "\n",
    "df2 = df2.set_index(['Date'])\n",
    "\n",
    "# plot temperature\n",
    "df2['Temperature'].plot()\n",
    "\n",
    "df2.head(10)"
   ]
  },
  {
   "cell_type": "markdown",
   "metadata": {},
   "source": [
    "### Excercice 16\n",
    "\n",
    "Créer un *DataFrame* pandas des températures journalières entre le 1er janvier et le 30 avril 2007. Afficher sur un même graphique ces températures et la séries `Global_active_power`."
   ]
  },
  {
   "cell_type": "code",
   "execution_count": 30,
   "metadata": {
    "collapsed": false
   },
   "outputs": [
    {
     "data": {
      "text/plain": [
       "<matplotlib.axes._subplots.AxesSubplot at 0x1d7e44bec18>"
      ]
     },
     "execution_count": 30,
     "metadata": {},
     "output_type": "execute_result"
    },
    {
     "data": {
      "image/png": "[encoded data removed]",
      "text/plain": [
       "<Figure size 432x288 with 1 Axes>"
      ]
     },
     "metadata": {
      "needs_background": "light"
     },
     "output_type": "display_data"
    }
   ],
   "source": [
    "day_first = '01-01-2007'\n",
    "day_last = '30-04-2007'\n",
    "\n",
    "df2_2007 = df2[day_first:day_last]\n",
    "\n",
    "df2_2007.plot()"
   ]
  },
  {
   "cell_type": "code",
   "execution_count": 47,
   "metadata": {
    "collapsed": false
   },
   "outputs": [
    {
     "data": {
      "image/png": "[encoded data removed]",
      "text/plain": [
       "<Figure size 432x288 with 2 Axes>"
      ]
     },
     "metadata": {
      "needs_background": "light"
     },
     "output_type": "display_data"
    }
   ],
   "source": [
    "%matplotlib inline\n",
    "\n",
    "fig = plt.figure()\n",
    "ax1 = fig.add_subplot(111)\n",
    "\n",
    "plt.grid(True)\n",
    "\n",
    "plt.title(\"Consumption\")\n",
    "\n",
    "plt.xlabel(\"Date\")\n",
    "plt.xticks(rotation=45)\n",
    "\n",
    "# plot 1\n",
    "color1 = \"green\"\n",
    "ax1.set_ylabel(\"temperature\", color=color1)\n",
    "ax1.tick_params(axis='y', labelcolor=color1)\n",
    "ax1.set_ylim([-5, 25])\n",
    "p1, = ax1.plot(df_2007_avg.index, df2_2007['Temperature'],\n",
    "               label='Temperature',\n",
    "               color=color1)\n",
    "\n",
    "# plot 2\n",
    "# instantiate a second axes that shares the same x-axis\n",
    "color2 = \"red\"\n",
    "ax2 = ax1.twinx()\n",
    "ax2.set_ylabel(\"global active power\", color=color2)\n",
    "ax2.tick_params(axis='y', labelcolor=color2)\n",
    "\n",
    "p2, = ax2.plot(df_2007_avg.index, df_2007_avg['Global_active_power'],\n",
    "               label='Global_active_power',\n",
    "               color=color2)\n",
    "ax2.set_ylim([0.0, 3.0])\n",
    "\n",
    "lns = [p1, p2]\n",
    "plt.legend(handles=lns, loc='best');\n",
    "\n",
    "fig.tight_layout() \n",
    "plt.show()"
   ]
  }
 ],
 "metadata": {
  "kernelspec": {
   "display_name": "Python 3",
   "language": "python",
   "name": "python3"
  },
  "language_info": {
   "codemirror_mode": {
    "name": "ipython",
    "version": 3
   },
   "file_extension": ".py",
   "mimetype": "text/x-python",
   "name": "python",
   "nbconvert_exporter": "python",
   "pygments_lexer": "ipython3",
   "version": "3.5.3"
  }
 },
 "nbformat": 4,
 "nbformat_minor": 4
}
